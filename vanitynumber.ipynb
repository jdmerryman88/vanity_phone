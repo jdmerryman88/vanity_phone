{
 "cells": [
  {
   "cell_type": "code",
   "execution_count": 11,
   "metadata": {},
   "outputs": [],
   "source": [
    "phoneNum = 7134785487\n",
    "phoneNum = str(phoneNum)\n"
   ]
  },
  {
   "cell_type": "code",
   "execution_count": 12,
   "metadata": {},
   "outputs": [],
   "source": [
    "alphaNum = [[\"0\"],['1'],[\"A\", \"B\", \"C\", \"2\"],[\"D\", \"E\", \"F\", \"3\"],[\"G\", \"H\", \"I\", \"4\"],[\"J\", \"K\", \"L\", \"5\"],[\"M\", \"N\", \"O\",\"6\"],\n",
    "            [\"P\",\"Q\", \"R\", \"S\", \"7\"],[\"T\", \"U\", \"V\", \"8\"], [\"W\", \"X\", \"Y\", \"Z\", \"9\"]]"
   ]
  },
  {
   "cell_type": "code",
   "execution_count": 13,
   "metadata": {},
   "outputs": [],
   "source": [
    "vanityNum = []"
   ]
  },
  {
   "cell_type": "code",
   "execution_count": 14,
   "metadata": {},
   "outputs": [],
   "source": [
    "for i in range(len(alphaNum[int(phoneNum[0])])):\n",
    "    for x in range(len(alphaNum[int(phoneNum[1])])):\n",
    "        for y in range(len(alphaNum[int(phoneNum[2])])):\n",
    "            for z in range(len(alphaNum[int(phoneNum[3])])):\n",
    "                for a in range(len(alphaNum[int(phoneNum[4])])):\n",
    "                    for b in range(len(alphaNum[int(phoneNum[5])])):\n",
    "                        for c in range(len(alphaNum[int(phoneNum[6])])):\n",
    "                            for d in range(len(alphaNum[int(phoneNum[7])])):\n",
    "                                for e in range(len(alphaNum[int(phoneNum[8])])):\n",
    "                                    for f in range(len(alphaNum[int(phoneNum[9])])):\n",
    "                                        result = alphaNum[int(phoneNum[0])][i] + alphaNum[int(phoneNum[1])][x]+ alphaNum[int(phoneNum[2])][y]+alphaNum[int(phoneNum[3])][y]+ alphaNum[int(phoneNum[4])][a] + alphaNum[int(phoneNum[5])][b]+ alphaNum[int(phoneNum[6])][c]+ alphaNum[int(phoneNum[7])][d] + alphaNum[int(phoneNum[8])][e]+ alphaNum[int(phoneNum[9])][f]\n",
    "                                        \n",
    "                                        vanityNum.append(result)"
   ]
  },
  {
   "cell_type": "code",
   "execution_count": 15,
   "metadata": {},
   "outputs": [
    {
     "name": "stdout",
     "output_type": "stream",
     "text": [
      "512000\n",
      "P1DGPTJGTQ\n"
     ]
    }
   ],
   "source": [
    "print(len(vanityNum))\n",
    "print (vanityNum[1])"
   ]
  },
  {
   "cell_type": "code",
   "execution_count": 25,
   "metadata": {},
   "outputs": [
    {
     "name": "stdout",
     "output_type": "stream",
     "text": [
      "P\n",
      "1\n",
      "D\n",
      "E\n",
      "F\n",
      "3\n",
      "G\n",
      "H\n",
      "I\n",
      "4\n",
      "P\n",
      "Q\n",
      "R\n",
      "S\n",
      "T\n",
      "U\n",
      "V\n",
      "8\n",
      "J\n",
      "K\n",
      "L\n",
      "5\n",
      "G\n",
      "H\n",
      "I\n",
      "4\n"
     ]
    },
    {
     "ename": "IndexError",
     "evalue": "list index out of range",
     "output_type": "error",
     "traceback": [
      "\u001b[0;31m---------------------------------------------------------------------------\u001b[0m",
      "\u001b[0;31mIndexError\u001b[0m                                Traceback (most recent call last)",
      "\u001b[0;32m<ipython-input-25-ad03257062e1>\u001b[0m in \u001b[0;36m<module>\u001b[0;34m\u001b[0m\n\u001b[1;32m      1\u001b[0m \u001b[0;32mfor\u001b[0m \u001b[0mi\u001b[0m \u001b[0;32min\u001b[0m \u001b[0mrange\u001b[0m \u001b[0;34m(\u001b[0m\u001b[0mlen\u001b[0m\u001b[0;34m(\u001b[0m\u001b[0mphoneNum\u001b[0m\u001b[0;34m)\u001b[0m\u001b[0;34m)\u001b[0m\u001b[0;34m:\u001b[0m\u001b[0;34m\u001b[0m\u001b[0;34m\u001b[0m\u001b[0m\n\u001b[1;32m      2\u001b[0m     \u001b[0;32mfor\u001b[0m \u001b[0mx\u001b[0m \u001b[0;32min\u001b[0m \u001b[0mrange\u001b[0m \u001b[0;34m(\u001b[0m\u001b[0mlen\u001b[0m\u001b[0;34m(\u001b[0m\u001b[0malphaNum\u001b[0m\u001b[0;34m[\u001b[0m\u001b[0mi\u001b[0m\u001b[0;34m]\u001b[0m\u001b[0;34m)\u001b[0m\u001b[0;34m)\u001b[0m\u001b[0;34m:\u001b[0m\u001b[0;34m\u001b[0m\u001b[0;34m\u001b[0m\u001b[0m\n\u001b[0;32m----> 3\u001b[0;31m         \u001b[0mresult\u001b[0m \u001b[0;34m=\u001b[0m \u001b[0malphaNum\u001b[0m\u001b[0;34m[\u001b[0m\u001b[0mint\u001b[0m\u001b[0;34m(\u001b[0m\u001b[0mphoneNum\u001b[0m\u001b[0;34m[\u001b[0m\u001b[0mi\u001b[0m\u001b[0;34m]\u001b[0m\u001b[0;34m)\u001b[0m\u001b[0;34m]\u001b[0m\u001b[0;34m[\u001b[0m\u001b[0mx\u001b[0m\u001b[0;34m]\u001b[0m\u001b[0;34m\u001b[0m\u001b[0;34m\u001b[0m\u001b[0m\n\u001b[0m\u001b[1;32m      4\u001b[0m         \u001b[0mprint\u001b[0m \u001b[0;34m(\u001b[0m\u001b[0mresult\u001b[0m\u001b[0;34m)\u001b[0m\u001b[0;34m\u001b[0m\u001b[0;34m\u001b[0m\u001b[0m\n",
      "\u001b[0;31mIndexError\u001b[0m: list index out of range"
     ]
    }
   ],
   "source": [
    "for i in range (len(phoneNum)):\n",
    "    for x in range (len(alphaNum[i])):\n",
    "        result = alphaNum[int(phoneNum[i])][x]\n",
    "        print (result)"
   ]
  },
  {
   "cell_type": "code",
   "execution_count": 16,
   "metadata": {},
   "outputs": [],
   "source": [
    "vanityNumNoArea = []"
   ]
  },
  {
   "cell_type": "code",
   "execution_count": 17,
   "metadata": {},
   "outputs": [],
   "source": [
    "numNoArea = \"\"\n",
    "n = 3\n",
    "while n < len(phoneNum):\n",
    "    numNoArea = numNoArea + phoneNum[n]\n",
    "    n += 1\n"
   ]
  },
  {
   "cell_type": "code",
   "execution_count": 18,
   "metadata": {},
   "outputs": [],
   "source": [
    "for i in range(len(alphaNum[int(numNoArea[0])])):\n",
    "    for x in range(len(alphaNum[int(numNoArea[1])])):\n",
    "        for y in range(len(alphaNum[int(numNoArea[2])])):\n",
    "            for z in range(len(alphaNum[int(numNoArea[3])])):\n",
    "                for a in range(len(alphaNum[int(numNoArea[4])])):\n",
    "                    for b in range(len(alphaNum[int(numNoArea[5])])):\n",
    "                        for c in range(len(alphaNum[int(numNoArea[6])])):\n",
    "                            result = alphaNum[int(numNoArea[0])][i] + alphaNum[int(numNoArea[1])][x]+ alphaNum[int(numNoArea[2])][y]+alphaNum[int(numNoArea[3])][y]+ alphaNum[int(numNoArea[4])][a] + alphaNum[int(numNoArea[5])][b]+ alphaNum[int(numNoArea[6])][c]\n",
    "                            vanityNum.append(result)\n",
    "                            \n",
    "                            vanityNumNoArea.append(result)"
   ]
  },
  {
   "cell_type": "code",
   "execution_count": 9,
   "metadata": {},
   "outputs": [
    {
     "name": "stdout",
     "output_type": "stream",
     "text": [
      "T1MDGDX\n",
      "5120\n"
     ]
    }
   ],
   "source": [
    "print (vanityNumNoArea[1])\n",
    "print (len(vanityNumNoArea))"
   ]
  },
  {
   "cell_type": "code",
   "execution_count": null,
   "metadata": {},
   "outputs": [],
   "source": []
  }
 ],
 "metadata": {
  "kernelspec": {
   "display_name": "Python 3",
   "language": "python",
   "name": "python3"
  },
  "language_info": {
   "codemirror_mode": {
    "name": "ipython",
    "version": 3
   },
   "file_extension": ".py",
   "mimetype": "text/x-python",
   "name": "python",
   "nbconvert_exporter": "python",
   "pygments_lexer": "ipython3",
   "version": "3.8.3"
  }
 },
 "nbformat": 4,
 "nbformat_minor": 4
}
